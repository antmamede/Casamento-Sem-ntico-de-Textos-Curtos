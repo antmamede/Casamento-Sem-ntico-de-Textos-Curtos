{
 "cells": [
  {
   "cell_type": "markdown",
   "id": "6b534922",
   "metadata": {},
   "source": [
    "# Importando Pacotes"
   ]
  },
  {
   "cell_type": "code",
   "execution_count": 1,
   "id": "e3891f09",
   "metadata": {},
   "outputs": [],
   "source": [
    "import os\n",
    "import pandas as pd\n",
    "from sklearn.feature_extraction.text import TfidfVectorizer\n",
    "import re\n",
    "import nltk\n",
    "import strsimpy\n",
    "import numpy as np\n",
    "from strsimpy.normalized_levenshtein import NormalizedLevenshtein\n",
    "from strsimpy.jaro_winkler import JaroWinkler\n",
    "from sklearn.metrics.pairwise import cosine_similarity\n",
    "from gensim.models import KeyedVectors"
   ]
  },
  {
   "cell_type": "markdown",
   "id": "b1096ba3",
   "metadata": {},
   "source": [
    "# Paths"
   ]
  },
  {
   "cell_type": "code",
   "execution_count": 2,
   "id": "687c2822",
   "metadata": {},
   "outputs": [],
   "source": [
    "path_bases = \"C:\\\\Users\\\\aamma\\\\OneDrive\\\\ENCE\\\\TCC\\\\REFAZENDO EXPERIMENTO\\\\Bases\"\n",
    "path_embeddings = \"C:\\\\Users\\\\aamma\\\\OneDrive\\\\ENCE\\\\TCC\\\\REFAZENDO EXPERIMENTO\\\\Embeddings\"\n",
    "path_resultados = \"C:\\\\Users\\\\aamma\\\\OneDrive\\\\ENCE\\\\TCC\\\\REFAZENDO EXPERIMENTO\\\\Resultados\""
   ]
  },
  {
   "cell_type": "markdown",
   "id": "1f286899",
   "metadata": {},
   "source": [
    "# Leitura de Bases"
   ]
  },
  {
   "cell_type": "code",
   "execution_count": 3,
   "id": "bd8cee5a",
   "metadata": {},
   "outputs": [],
   "source": [
    "os.chdir(path_bases)\n",
    "descricoes_pof = pd.read_excel(\"Descricoes_POF_g2.xlsx\")\n",
    "descricoes_snipc = pd.read_excel(\"Descricoes_SNIPC_g2.xlsx\")\n",
    "descricoes_pof = descricoes_pof.values.tolist() # Converte dataframe para lista de listas\n",
    "descricoes_snipc = descricoes_snipc.values.tolist() # Coverte dataframe para lista de listas\n",
    "descricoes_pof = [item for sublist in descricoes_pof for item in sublist] # Converte lista de listas para lista\n",
    "descricoes_snipc = [item for sublist in descricoes_snipc for item in sublist] # Converte lista de listas para lista"
   ]
  },
  {
   "cell_type": "markdown",
   "id": "87d87e2d",
   "metadata": {},
   "source": [
    "# Criando Matrizes de Similaridade"
   ]
  },
  {
   "cell_type": "code",
   "execution_count": 4,
   "id": "3c86b2d9",
   "metadata": {},
   "outputs": [],
   "source": [
    "## Levenshtein\n",
    "df_levenshtein = np.zeros((len(descricoes_pof), len(descricoes_snipc)))\n",
    "df_levenshtein = pd.DataFrame(df_levenshtein, columns = descricoes_snipc,\n",
    "index = descricoes_pof)\n",
    "\n",
    "## Jaro\n",
    "df_jaro = np.zeros((len(descricoes_pof), len(descricoes_snipc)))\n",
    "df_jaro = pd.DataFrame(df_jaro, columns = descricoes_snipc,\n",
    "index = descricoes_pof)\n",
    "\n",
    "## Jaccard\n",
    "df_jaccard = np.zeros((len(descricoes_pof), len(descricoes_snipc)))\n",
    "df_jaccard = pd.DataFrame(df_jaccard, columns = descricoes_snipc,\n",
    "index = descricoes_pof)\n",
    "\n",
    "## TF-IDF\n",
    "df_tfidf = np.zeros((len(descricoes_pof), len(descricoes_snipc)))\n",
    "df_tfidf = pd.DataFrame(df_tfidf, columns = descricoes_snipc,\n",
    "index = descricoes_pof)\n",
    "\n",
    "## Word2Vec\n",
    "df_word2vec_soma = np.zeros((len(descricoes_pof), len(descricoes_snipc)))\n",
    "df_word2vec_soma = pd.DataFrame(df_word2vec_soma, columns = descricoes_snipc,\n",
    "index = descricoes_pof)\n",
    "df_word2vec_media = np.zeros((len(descricoes_pof), len(descricoes_snipc)))\n",
    "df_word2vec_media = pd.DataFrame(df_word2vec_media, columns = descricoes_snipc,\n",
    "index = descricoes_pof)"
   ]
  },
  {
   "cell_type": "markdown",
   "id": "da119136",
   "metadata": {},
   "source": [
    "# Calculando Similaridade"
   ]
  },
  {
   "cell_type": "markdown",
   "id": "9ffb4f21",
   "metadata": {},
   "source": [
    "## Levenshtein"
   ]
  },
  {
   "cell_type": "code",
   "execution_count": 5,
   "id": "cabc514d",
   "metadata": {},
   "outputs": [],
   "source": [
    "levenshtein = NormalizedLevenshtein()\n",
    "contador = 0\n",
    "for palavra_pof in df_levenshtein.index:\n",
    "    for palavra_snipc in df_levenshtein.columns:\n",
    "        df_levenshtein.at[palavra_pof, palavra_snipc] = levenshtein.similarity(palavra_pof, palavra_snipc)\n",
    "    contador = contador + 1\n",
    "    if contador % 700 == 0 or contador == 3305:\n",
    "        print(contador / df_levenshtein.shape[0] * 100, \"%\")"
   ]
  },
  {
   "cell_type": "code",
   "execution_count": 6,
   "id": "065a85b5",
   "metadata": {},
   "outputs": [],
   "source": [
    "path_resultados = \"C:\\\\Users\\\\aamma\\\\OneDrive\\\\ENCE\\\\TCC\\\\REFAZENDO EXPERIMENTO\\\\Resultados\"\n",
    "os.chdir(path_resultados)\n",
    "df_levenshtein.to_excel(\"Levenshtein_g2_MS.xlsx\")"
   ]
  },
  {
   "cell_type": "markdown",
   "id": "1151d0e0",
   "metadata": {},
   "source": [
    "## Jaro"
   ]
  },
  {
   "cell_type": "code",
   "execution_count": 7,
   "id": "d6872f83",
   "metadata": {},
   "outputs": [],
   "source": [
    "jaro = JaroWinkler()\n",
    "contador = 0\n",
    "for palavra_pof in df_jaro.index:\n",
    "    for palavra_snipc in df_jaro.columns:\n",
    "        df_jaro.at[palavra_pof, palavra_snipc] = jaro.similarity(palavra_pof, palavra_snipc)\n",
    "    contador = contador + 1\n",
    "    if contador % 700 == 0 or contador == 3305:\n",
    "        print(contador / df_jaro.shape[0] * 100, \"%\")"
   ]
  },
  {
   "cell_type": "code",
   "execution_count": 8,
   "id": "1091c365",
   "metadata": {},
   "outputs": [],
   "source": [
    "os.chdir(path_resultados)\n",
    "df_jaro.to_excel(\"Jaro_g2_MS.xlsx\")"
   ]
  },
  {
   "cell_type": "markdown",
   "id": "663a17c6",
   "metadata": {},
   "source": [
    "## Jaccard"
   ]
  },
  {
   "cell_type": "code",
   "execution_count": 9,
   "id": "e901e379",
   "metadata": {},
   "outputs": [],
   "source": [
    "contador = 0\n",
    "for palavra_pof in df_jaccard.index:\n",
    "    for palavra_snipc in df_jaccard.columns:\n",
    "        tok_pof = set(palavra_pof.split())\n",
    "        tok_snipc = set(palavra_snipc.split())\n",
    "        numerador = tok_pof & tok_snipc\n",
    "        denominador = tok_pof | tok_snipc\n",
    "        df_jaccard.at[palavra_pof, palavra_snipc] = len(numerador) / len(denominador)\n",
    "    contador = contador + 1\n",
    "    if contador % 700 == 0 or contador == 3305:\n",
    "        print(contador / df_jaccard.shape[0] * 100, \"%\")"
   ]
  },
  {
   "cell_type": "code",
   "execution_count": 10,
   "id": "c62b68ca",
   "metadata": {},
   "outputs": [],
   "source": [
    "os.chdir(path_resultados)\n",
    "df_jaccard.to_excel(\"Jaccard_g2_MS.xlsx\")"
   ]
  },
  {
   "cell_type": "markdown",
   "id": "241ff78f",
   "metadata": {},
   "source": [
    "## TF-IDF"
   ]
  },
  {
   "cell_type": "code",
   "execution_count": 11,
   "id": "1dde7212",
   "metadata": {},
   "outputs": [],
   "source": [
    "vectorizer = TfidfVectorizer()\n",
    "\n",
    "# Juntando Todas as Descrições e Removendo duplicatas\n",
    "todas_descricoes = descricoes_pof + descricoes_snipc\n",
    "todas_descricoes = pd.Series(todas_descricoes).drop_duplicates().to_list()\n",
    "\n",
    "# Calculando valores TF-IDF\n",
    "tfidf_matrix = vectorizer.fit_transform(todas_descricoes)\n",
    "\n",
    "# Transformando Matriz TF-IDF em DF\n",
    "tfidf_df = pd.DataFrame(tfidf_matrix.toarray(), index=todas_descricoes, columns=vectorizer.get_feature_names_out())\n",
    "\n",
    "# Filtrando por pesquisas\n",
    "tfidf_snipc = tfidf_df.filter(items = descricoes_snipc, axis = 0)\n",
    "tfidf_pof = tfidf_df.filter(items = descricoes_pof, axis = 0)\n",
    "\n",
    "## Calculando Cosseno e transformando em DF\n",
    "cosine_sim = cosine_similarity(tfidf_pof, tfidf_snipc)\n",
    "df_tfidf = pd.DataFrame(cosine_sim, index = descricoes_pof, columns = descricoes_snipc)"
   ]
  },
  {
   "cell_type": "code",
   "execution_count": 12,
   "id": "8a598184",
   "metadata": {},
   "outputs": [],
   "source": [
    "os.chdir(path_resultados)\n",
    "df_tfidf.to_excel(\"TFIDF_g2_MS.xlsx\")"
   ]
  },
  {
   "cell_type": "markdown",
   "id": "86e705dc",
   "metadata": {},
   "source": [
    "# Word2vec"
   ]
  },
  {
   "cell_type": "code",
   "execution_count": 13,
   "id": "4d0df050",
   "metadata": {},
   "outputs": [],
   "source": [
    "os.chdir(path_embeddings)\n",
    "os.getcwd()\n",
    "model = KeyedVectors.load_word2vec_format(\"skip_s300.txt\")"
   ]
  },
  {
   "cell_type": "code",
   "execution_count": 14,
   "id": "89d56093",
   "metadata": {},
   "outputs": [],
   "source": [
    "os.chdir(path_bases)\n",
    "tokens_all = pd.read_excel(\"Tokens_All_g2.xlsx\")\n",
    "tokens_all = tokens_all.values.tolist()\n",
    "tokens_all = [item for sublist in tokens_all for item in sublist]\n",
    "vocab_set = set(model.index_to_key)\n",
    "keep_set = set(tokens_all)\n",
    "drop_set = vocab_set - keep_set\n",
    "for word in drop_set:\n",
    "    del model.key_to_index[word]"
   ]
  },
  {
   "cell_type": "code",
   "execution_count": 15,
   "id": "0927d7e7",
   "metadata": {},
   "outputs": [],
   "source": [
    "tokens_nc = pd.read_excel(\"Tokens_All_NC_g2.xlsx\")\n",
    "tokens_nc = tokens_nc.values.tolist()\n",
    "tokens_nc = [item for sublist in tokens_nc for item in sublist]"
   ]
  },
  {
   "cell_type": "code",
   "execution_count": 16,
   "id": "e262b74d",
   "metadata": {},
   "outputs": [
    {
     "data": {
      "text/plain": [
       "['baraticida',\n",
       " 'bicama',\n",
       " 'triliche',\n",
       " 'sovadeira',\n",
       " 'fogotini',\n",
       " 'omeleteira',\n",
       " 'ourinol',\n",
       " 'marroada',\n",
       " 'shampu',\n",
       " 'descártaveis',\n",
       " 'mp3',\n",
       " 'mp4',\n",
       " 'mp5',\n",
       " 'desintupidor',\n",
       " 'esperemedor']"
      ]
     },
     "execution_count": 16,
     "metadata": {},
     "output_type": "execute_result"
    }
   ],
   "source": [
    "tokens_nc"
   ]
  },
  {
   "cell_type": "code",
   "execution_count": 17,
   "id": "f79b57ac",
   "metadata": {},
   "outputs": [],
   "source": [
    "matriz_aux = np.zeros((300, ), dtype = \"float32\")\n",
    "for token in tokens_nc:\n",
    "    model[token] = matriz_aux"
   ]
  },
  {
   "cell_type": "markdown",
   "id": "0a6d25e9",
   "metadata": {},
   "source": [
    "## Soma de Embeddings"
   ]
  },
  {
   "cell_type": "code",
   "execution_count": 18,
   "id": "7b7ba3b9",
   "metadata": {},
   "outputs": [],
   "source": [
    "def embedding_soma(sentence, model, num_features, word_set):\n",
    "    words = sentence.split()\n",
    "    feature_vec = np.zeros((num_features, ), dtype = \"float32\")\n",
    "    for word in words:\n",
    "        if word in word_set:\n",
    "            feature_vec = np.add(feature_vec, model[word])\n",
    "    model[sentence] = feature_vec"
   ]
  },
  {
   "cell_type": "code",
   "execution_count": 19,
   "id": "5deb9314",
   "metadata": {},
   "outputs": [
    {
     "name": "stdout",
     "output_type": "stream",
     "text": [
      "0.0 %\n",
      "1.0351966873706004 %\n",
      "2.070393374741201 %\n",
      "3.1055900621118013 %\n",
      "4.140786749482402 %\n",
      "5.175983436853002 %\n",
      "6.211180124223603 %\n",
      "7.246376811594203 %\n",
      "8.281573498964804 %\n",
      "9.316770186335404 %\n",
      "10.351966873706004 %\n",
      "11.387163561076605 %\n",
      "12.422360248447205 %\n",
      "13.457556935817806 %\n",
      "14.492753623188406 %\n",
      "15.527950310559005 %\n",
      "16.563146997929607 %\n",
      "17.598343685300208 %\n",
      "18.633540372670808 %\n",
      "19.66873706004141 %\n",
      "20.70393374741201 %\n",
      "21.73913043478261 %\n",
      "22.77432712215321 %\n",
      "23.809523809523807 %\n",
      "24.84472049689441 %\n",
      "25.87991718426501 %\n",
      "26.91511387163561 %\n",
      "27.95031055900621 %\n",
      "28.985507246376812 %\n",
      "30.020703933747413 %\n",
      "31.05590062111801 %\n",
      "32.091097308488614 %\n",
      "33.126293995859214 %\n",
      "34.161490683229815 %\n",
      "35.196687370600415 %\n",
      "36.231884057971016 %\n",
      "37.267080745341616 %\n",
      "38.302277432712216 %\n",
      "39.33747412008282 %\n",
      "40.37267080745342 %\n",
      "41.40786749482402 %\n",
      "42.44306418219462 %\n",
      "43.47826086956522 %\n",
      "44.51345755693582 %\n",
      "45.54865424430642 %\n",
      "46.58385093167702 %\n",
      "47.61904761904761 %\n",
      "48.65424430641822 %\n",
      "49.68944099378882 %\n",
      "50.72463768115942 %\n",
      "51.75983436853002 %\n",
      "52.79503105590062 %\n",
      "53.83022774327122 %\n",
      "54.865424430641816 %\n",
      "55.90062111801242 %\n",
      "56.935817805383024 %\n",
      "57.971014492753625 %\n",
      "59.006211180124225 %\n",
      "60.041407867494826 %\n",
      "61.07660455486542 %\n",
      "62.11180124223602 %\n",
      "63.14699792960663 %\n",
      "64.18219461697723 %\n",
      "65.21739130434783 %\n",
      "66.25258799171843 %\n",
      "67.28778467908903 %\n",
      "68.32298136645963 %\n",
      "69.35817805383023 %\n",
      "70.39337474120083 %\n",
      "71.42857142857143 %\n",
      "72.46376811594203 %\n",
      "73.49896480331263 %\n",
      "74.53416149068323 %\n",
      "75.56935817805382 %\n",
      "76.60455486542443 %\n",
      "77.63975155279503 %\n",
      "78.67494824016563 %\n",
      "79.71014492753623 %\n",
      "80.74534161490683 %\n",
      "81.78053830227742 %\n",
      "82.81573498964804 %\n",
      "83.85093167701864 %\n",
      "84.88612836438924 %\n",
      "85.92132505175984 %\n",
      "86.95652173913044 %\n",
      "87.99171842650104 %\n",
      "89.02691511387164 %\n",
      "90.06211180124224 %\n",
      "91.09730848861284 %\n",
      "92.13250517598344 %\n",
      "93.16770186335404 %\n",
      "94.20289855072464 %\n",
      "95.23809523809523 %\n",
      "96.27329192546584 %\n",
      "97.30848861283644 %\n",
      "98.34368530020704 %\n",
      "99.37888198757764 %\n"
     ]
    }
   ],
   "source": [
    "word_set = set(model.index_to_key)\n",
    "todas_descricoes = descricoes_pof + descricoes_snipc\n",
    "contador = 0\n",
    "for descricao in todas_descricoes:\n",
    "    embedding_soma(descricao, model, 300, word_set)\n",
    "    if contador % 10 == 0 or contador == 4592:\n",
    "        print(contador / len(todas_descricoes) * 100, \"%\")\n",
    "    contador = contador + 1"
   ]
  },
  {
   "cell_type": "code",
   "execution_count": 20,
   "id": "d88cdf38",
   "metadata": {},
   "outputs": [
    {
     "name": "stdout",
     "output_type": "stream",
     "text": [
      "1.4326647564469914 %\n",
      "2.865329512893983 %\n",
      "4.297994269340974 %\n",
      "5.730659025787966 %\n",
      "7.163323782234957 %\n",
      "8.595988538681947 %\n",
      "10.028653295128938 %\n",
      "11.461318051575931 %\n",
      "12.893982808022923 %\n",
      "14.326647564469914 %\n",
      "15.759312320916905 %\n",
      "17.191977077363894 %\n",
      "18.624641833810887 %\n",
      "20.057306590257877 %\n",
      "21.48997134670487 %\n",
      "22.922636103151863 %\n",
      "24.355300859598856 %\n",
      "25.787965616045845 %\n",
      "27.22063037249284 %\n",
      "28.653295128939828 %\n",
      "30.08595988538682 %\n",
      "31.51862464183381 %\n",
      "32.95128939828081 %\n",
      "34.38395415472779 %\n",
      "35.816618911174785 %\n",
      "37.249283667621775 %\n",
      "38.68194842406877 %\n",
      "40.114613180515754 %\n",
      "41.54727793696275 %\n",
      "42.97994269340974 %\n",
      "44.412607449856736 %\n",
      "45.845272206303726 %\n",
      "47.277936962750715 %\n",
      "48.71060171919771 %\n",
      "50.1432664756447 %\n",
      "51.57593123209169 %\n",
      "53.00859598853869 %\n",
      "54.44126074498568 %\n",
      "55.873925501432666 %\n",
      "57.306590257879655 %\n",
      "58.73925501432665 %\n",
      "60.17191977077364 %\n",
      "61.60458452722063 %\n",
      "63.03724928366762 %\n",
      "64.46991404011462 %\n",
      "65.90257879656161 %\n",
      "67.3352435530086 %\n",
      "68.76790830945558 %\n",
      "70.20057306590259 %\n",
      "71.63323782234957 %\n",
      "73.06590257879655 %\n",
      "74.49856733524355 %\n",
      "75.93123209169055 %\n",
      "77.36389684813754 %\n",
      "78.79656160458453 %\n",
      "80.22922636103151 %\n",
      "81.66189111747852 %\n",
      "83.0945558739255 %\n",
      "84.5272206303725 %\n",
      "85.95988538681948 %\n",
      "87.39255014326648 %\n",
      "88.82521489971347 %\n",
      "90.25787965616045 %\n",
      "91.69054441260745 %\n",
      "93.12320916905445 %\n",
      "94.55587392550143 %\n",
      "95.98853868194843 %\n",
      "97.42120343839542 %\n",
      "98.8538681948424 %\n"
     ]
    }
   ],
   "source": [
    "contador = 0\n",
    "for palavra_pof in df_word2vec_soma.index:\n",
    "    for palavra_snipc in df_word2vec_soma.columns:\n",
    "        df_word2vec_soma.at[palavra_pof, palavra_snipc] = model.similarity(palavra_pof, palavra_snipc)\n",
    "    contador = contador + 1\n",
    "    if contador % 10 == 0 or contador == 3376:\n",
    "        print(contador / df_word2vec_soma.shape[0] * 100, \"%\")"
   ]
  },
  {
   "cell_type": "code",
   "execution_count": 21,
   "id": "f67716f5",
   "metadata": {},
   "outputs": [],
   "source": [
    "os.chdir(path_resultados)\n",
    "df_word2vec_soma.to_excel(\"Word2VecSoma_g2_MS.xlsx\")"
   ]
  },
  {
   "cell_type": "markdown",
   "id": "c8dbeb53",
   "metadata": {},
   "source": [
    "## Word2Vec Média"
   ]
  },
  {
   "cell_type": "code",
   "execution_count": 22,
   "id": "3ded131a",
   "metadata": {},
   "outputs": [],
   "source": [
    "def embedding_media(sentence, model, num_features, word_set):\n",
    "    words = sentence.split()\n",
    "    n_words = 0\n",
    "    feature_vec = np.zeros((num_features, ), dtype = \"float32\")\n",
    "    for word in words:\n",
    "        if word in word_set:\n",
    "            feature_vec = np.add(feature_vec, model[word])\n",
    "            n_words = n_words + 1\n",
    "    model[sentence] = feature_vec / n_words"
   ]
  },
  {
   "cell_type": "code",
   "execution_count": 23,
   "id": "406dc9f0",
   "metadata": {},
   "outputs": [
    {
     "name": "stdout",
     "output_type": "stream",
     "text": [
      "0.0 %\n",
      "1.0351966873706004 %\n",
      "2.070393374741201 %\n",
      "3.1055900621118013 %\n",
      "4.140786749482402 %\n",
      "5.175983436853002 %\n",
      "6.211180124223603 %\n",
      "7.246376811594203 %\n",
      "8.281573498964804 %\n",
      "9.316770186335404 %\n",
      "10.351966873706004 %\n",
      "11.387163561076605 %\n",
      "12.422360248447205 %\n",
      "13.457556935817806 %\n",
      "14.492753623188406 %\n",
      "15.527950310559005 %\n",
      "16.563146997929607 %\n",
      "17.598343685300208 %\n",
      "18.633540372670808 %\n",
      "19.66873706004141 %\n",
      "20.70393374741201 %\n",
      "21.73913043478261 %\n",
      "22.77432712215321 %\n",
      "23.809523809523807 %\n",
      "24.84472049689441 %\n",
      "25.87991718426501 %\n",
      "26.91511387163561 %\n",
      "27.95031055900621 %\n",
      "28.985507246376812 %\n",
      "30.020703933747413 %\n",
      "31.05590062111801 %\n",
      "32.091097308488614 %\n",
      "33.126293995859214 %\n",
      "34.161490683229815 %\n",
      "35.196687370600415 %\n",
      "36.231884057971016 %\n",
      "37.267080745341616 %\n",
      "38.302277432712216 %\n",
      "39.33747412008282 %\n",
      "40.37267080745342 %\n",
      "41.40786749482402 %\n",
      "42.44306418219462 %\n",
      "43.47826086956522 %\n",
      "44.51345755693582 %\n",
      "45.54865424430642 %\n",
      "46.58385093167702 %\n",
      "47.61904761904761 %\n",
      "48.65424430641822 %\n",
      "49.68944099378882 %\n",
      "50.72463768115942 %\n",
      "51.75983436853002 %\n",
      "52.79503105590062 %\n",
      "53.83022774327122 %\n",
      "54.865424430641816 %\n",
      "55.90062111801242 %\n",
      "56.935817805383024 %\n",
      "57.971014492753625 %\n",
      "59.006211180124225 %\n",
      "60.041407867494826 %\n",
      "61.07660455486542 %\n",
      "62.11180124223602 %\n",
      "63.14699792960663 %\n",
      "64.18219461697723 %\n",
      "65.21739130434783 %\n",
      "66.25258799171843 %\n",
      "67.28778467908903 %\n",
      "68.32298136645963 %\n",
      "69.35817805383023 %\n",
      "70.39337474120083 %\n",
      "71.42857142857143 %\n",
      "72.46376811594203 %\n",
      "73.49896480331263 %\n",
      "74.53416149068323 %\n",
      "75.56935817805382 %\n",
      "76.60455486542443 %\n",
      "77.63975155279503 %\n",
      "78.67494824016563 %\n",
      "79.71014492753623 %\n",
      "80.74534161490683 %\n",
      "81.78053830227742 %\n",
      "82.81573498964804 %\n",
      "83.85093167701864 %\n",
      "84.88612836438924 %\n",
      "85.92132505175984 %\n",
      "86.95652173913044 %\n",
      "87.99171842650104 %\n",
      "89.02691511387164 %\n",
      "90.06211180124224 %\n",
      "91.09730848861284 %\n",
      "92.13250517598344 %\n",
      "93.16770186335404 %\n",
      "94.20289855072464 %\n",
      "95.23809523809523 %\n",
      "96.27329192546584 %\n",
      "97.30848861283644 %\n",
      "98.34368530020704 %\n",
      "99.37888198757764 %\n"
     ]
    }
   ],
   "source": [
    "word_set = set(model.index_to_key)\n",
    "todas_descricoes = descricoes_pof + descricoes_snipc\n",
    "contador = 0\n",
    "for descricao in todas_descricoes:\n",
    "    embedding_media(descricao, model, 300, word_set)\n",
    "    if contador % 10 == 0 or contador == 4592:\n",
    "        print(contador / len(todas_descricoes) * 100, \"%\")\n",
    "    contador = contador + 1"
   ]
  },
  {
   "cell_type": "code",
   "execution_count": 24,
   "id": "5ec38f45",
   "metadata": {},
   "outputs": [
    {
     "name": "stdout",
     "output_type": "stream",
     "text": [
      "1.4326647564469914 %\n",
      "2.865329512893983 %\n",
      "4.297994269340974 %\n",
      "5.730659025787966 %\n",
      "7.163323782234957 %\n",
      "8.595988538681947 %\n",
      "10.028653295128938 %\n",
      "11.461318051575931 %\n",
      "12.893982808022923 %\n",
      "14.326647564469914 %\n",
      "15.759312320916905 %\n",
      "17.191977077363894 %\n",
      "18.624641833810887 %\n",
      "20.057306590257877 %\n",
      "21.48997134670487 %\n",
      "22.922636103151863 %\n",
      "24.355300859598856 %\n",
      "25.787965616045845 %\n",
      "27.22063037249284 %\n",
      "28.653295128939828 %\n",
      "30.08595988538682 %\n",
      "31.51862464183381 %\n",
      "32.95128939828081 %\n",
      "34.38395415472779 %\n",
      "35.816618911174785 %\n",
      "37.249283667621775 %\n",
      "38.68194842406877 %\n",
      "40.114613180515754 %\n",
      "41.54727793696275 %\n",
      "42.97994269340974 %\n",
      "44.412607449856736 %\n",
      "45.845272206303726 %\n",
      "47.277936962750715 %\n",
      "48.71060171919771 %\n",
      "50.1432664756447 %\n",
      "51.57593123209169 %\n",
      "53.00859598853869 %\n",
      "54.44126074498568 %\n",
      "55.873925501432666 %\n",
      "57.306590257879655 %\n",
      "58.73925501432665 %\n",
      "60.17191977077364 %\n",
      "61.60458452722063 %\n",
      "63.03724928366762 %\n",
      "64.46991404011462 %\n",
      "65.90257879656161 %\n",
      "67.3352435530086 %\n",
      "68.76790830945558 %\n",
      "70.20057306590259 %\n",
      "71.63323782234957 %\n",
      "73.06590257879655 %\n",
      "74.49856733524355 %\n",
      "75.93123209169055 %\n",
      "77.36389684813754 %\n",
      "78.79656160458453 %\n",
      "80.22922636103151 %\n",
      "81.66189111747852 %\n",
      "83.0945558739255 %\n",
      "84.5272206303725 %\n",
      "85.95988538681948 %\n",
      "87.39255014326648 %\n",
      "88.82521489971347 %\n",
      "90.25787965616045 %\n",
      "91.69054441260745 %\n",
      "93.12320916905445 %\n",
      "94.55587392550143 %\n",
      "95.98853868194843 %\n",
      "97.42120343839542 %\n",
      "98.8538681948424 %\n"
     ]
    }
   ],
   "source": [
    "contador = 0\n",
    "for palavra_pof in df_word2vec_media.index:\n",
    "    for palavra_snipc in df_word2vec_media.columns:\n",
    "        df_word2vec_media.at[palavra_pof, palavra_snipc] = model.similarity(palavra_pof, palavra_snipc)\n",
    "    contador = contador + 1\n",
    "    if contador % 10 == 0 or contador == 3376:\n",
    "        print(contador / df_word2vec_media.shape[0] * 100, \"%\")"
   ]
  },
  {
   "cell_type": "code",
   "execution_count": 25,
   "id": "877c7a90",
   "metadata": {},
   "outputs": [],
   "source": [
    "os.chdir(path_resultados)\n",
    "df_word2vec_media.to_excel(\"Word2VecMedia_g2_MS.xlsx\")"
   ]
  },
  {
   "cell_type": "code",
   "execution_count": null,
   "id": "339c9226",
   "metadata": {},
   "outputs": [],
   "source": []
  },
  {
   "cell_type": "code",
   "execution_count": 26,
   "id": "b2bf110c",
   "metadata": {},
   "outputs": [
    {
     "data": {
      "text/plain": [
       "698"
      ]
     },
     "execution_count": 26,
     "metadata": {},
     "output_type": "execute_result"
    }
   ],
   "source": [
    "contador"
   ]
  },
  {
   "cell_type": "code",
   "execution_count": null,
   "id": "6387343a",
   "metadata": {},
   "outputs": [],
   "source": []
  },
  {
   "cell_type": "code",
   "execution_count": null,
   "id": "390f9833",
   "metadata": {},
   "outputs": [],
   "source": []
  }
 ],
 "metadata": {
  "kernelspec": {
   "display_name": "Python 3 (ipykernel)",
   "language": "python",
   "name": "python3"
  },
  "language_info": {
   "codemirror_mode": {
    "name": "ipython",
    "version": 3
   },
   "file_extension": ".py",
   "mimetype": "text/x-python",
   "name": "python",
   "nbconvert_exporter": "python",
   "pygments_lexer": "ipython3",
   "version": "3.9.12"
  }
 },
 "nbformat": 4,
 "nbformat_minor": 5
}
